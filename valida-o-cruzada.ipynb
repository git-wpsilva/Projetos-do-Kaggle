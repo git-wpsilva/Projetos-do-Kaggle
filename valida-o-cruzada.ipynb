{
 "cells": [
  {
   "cell_type": "markdown",
   "id": "a443b2c7",
   "metadata": {
    "papermill": {
     "duration": 0.006817,
     "end_time": "2023-08-02T00:19:27.134729",
     "exception": false,
     "start_time": "2023-08-02T00:19:27.127912",
     "status": "completed"
    },
    "tags": []
   },
   "source": [
    "# Aplicando técnicas de Validação Cruzada\n",
    "\n",
    "Usando a mesma base de dados que o exercício [Decidindo o Melhor Modelo de Regressão Linear](http://https://github.com/git-wpsilva/Projetos-do-Kaggle/blob/main/escolhendo-um-modelo-de-regress-o.ipynb)\n",
    "\n"
   ]
  },
  {
   "cell_type": "code",
   "execution_count": 1,
   "id": "b4b0c6bc",
   "metadata": {
    "_cell_guid": "b1076dfc-b9ad-4769-8c92-a6c4dae69d19",
    "_uuid": "8f2839f25d086af736a60e9eeb907d3b93b6e0e5",
    "execution": {
     "iopub.execute_input": "2023-08-02T00:19:27.150134Z",
     "iopub.status.busy": "2023-08-02T00:19:27.148361Z",
     "iopub.status.idle": "2023-08-02T00:19:27.171861Z",
     "shell.execute_reply": "2023-08-02T00:19:27.170877Z"
    },
    "papermill": {
     "duration": 0.033732,
     "end_time": "2023-08-02T00:19:27.174606",
     "exception": false,
     "start_time": "2023-08-02T00:19:27.140874",
     "status": "completed"
    },
    "tags": []
   },
   "outputs": [
    {
     "name": "stdout",
     "output_type": "stream",
     "text": [
      "/kaggle/input/graduate-admissions/Admission_Predict.csv\n",
      "/kaggle/input/graduate-admissions/Admission_Predict_Ver1.1.csv\n"
     ]
    }
   ],
   "source": [
    "#Importando os dados\n",
    "import numpy as np\n",
    "import pandas as pd\n",
    "\n",
    "import os\n",
    "for dirname, _, filenames in os.walk('/kaggle/input'):\n",
    "    for filename in filenames:\n",
    "        print(os.path.join(dirname, filename))\n"
   ]
  },
  {
   "cell_type": "code",
   "execution_count": 2,
   "id": "68134f0e",
   "metadata": {
    "execution": {
     "iopub.execute_input": "2023-08-02T00:19:27.189346Z",
     "iopub.status.busy": "2023-08-02T00:19:27.188878Z",
     "iopub.status.idle": "2023-08-02T00:19:27.239247Z",
     "shell.execute_reply": "2023-08-02T00:19:27.238317Z"
    },
    "papermill": {
     "duration": 0.060336,
     "end_time": "2023-08-02T00:19:27.241446",
     "exception": false,
     "start_time": "2023-08-02T00:19:27.181110",
     "status": "completed"
    },
    "tags": []
   },
   "outputs": [
    {
     "data": {
      "text/html": [
       "<div>\n",
       "<style scoped>\n",
       "    .dataframe tbody tr th:only-of-type {\n",
       "        vertical-align: middle;\n",
       "    }\n",
       "\n",
       "    .dataframe tbody tr th {\n",
       "        vertical-align: top;\n",
       "    }\n",
       "\n",
       "    .dataframe thead th {\n",
       "        text-align: right;\n",
       "    }\n",
       "</style>\n",
       "<table border=\"1\" class=\"dataframe\">\n",
       "  <thead>\n",
       "    <tr style=\"text-align: right;\">\n",
       "      <th></th>\n",
       "      <th>Serial No.</th>\n",
       "      <th>GRE Score</th>\n",
       "      <th>TOEFL Score</th>\n",
       "      <th>University Rating</th>\n",
       "      <th>SOP</th>\n",
       "      <th>LOR</th>\n",
       "      <th>CGPA</th>\n",
       "      <th>Research</th>\n",
       "      <th>Chance of Admit</th>\n",
       "    </tr>\n",
       "  </thead>\n",
       "  <tbody>\n",
       "    <tr>\n",
       "      <th>0</th>\n",
       "      <td>1</td>\n",
       "      <td>337</td>\n",
       "      <td>118</td>\n",
       "      <td>4</td>\n",
       "      <td>4.5</td>\n",
       "      <td>4.5</td>\n",
       "      <td>9.65</td>\n",
       "      <td>1</td>\n",
       "      <td>0.92</td>\n",
       "    </tr>\n",
       "    <tr>\n",
       "      <th>1</th>\n",
       "      <td>2</td>\n",
       "      <td>324</td>\n",
       "      <td>107</td>\n",
       "      <td>4</td>\n",
       "      <td>4.0</td>\n",
       "      <td>4.5</td>\n",
       "      <td>8.87</td>\n",
       "      <td>1</td>\n",
       "      <td>0.76</td>\n",
       "    </tr>\n",
       "    <tr>\n",
       "      <th>2</th>\n",
       "      <td>3</td>\n",
       "      <td>316</td>\n",
       "      <td>104</td>\n",
       "      <td>3</td>\n",
       "      <td>3.0</td>\n",
       "      <td>3.5</td>\n",
       "      <td>8.00</td>\n",
       "      <td>1</td>\n",
       "      <td>0.72</td>\n",
       "    </tr>\n",
       "    <tr>\n",
       "      <th>3</th>\n",
       "      <td>4</td>\n",
       "      <td>322</td>\n",
       "      <td>110</td>\n",
       "      <td>3</td>\n",
       "      <td>3.5</td>\n",
       "      <td>2.5</td>\n",
       "      <td>8.67</td>\n",
       "      <td>1</td>\n",
       "      <td>0.80</td>\n",
       "    </tr>\n",
       "    <tr>\n",
       "      <th>4</th>\n",
       "      <td>5</td>\n",
       "      <td>314</td>\n",
       "      <td>103</td>\n",
       "      <td>2</td>\n",
       "      <td>2.0</td>\n",
       "      <td>3.0</td>\n",
       "      <td>8.21</td>\n",
       "      <td>0</td>\n",
       "      <td>0.65</td>\n",
       "    </tr>\n",
       "  </tbody>\n",
       "</table>\n",
       "</div>"
      ],
      "text/plain": [
       "   Serial No.  GRE Score  TOEFL Score  University Rating  SOP  LOR   CGPA  \\\n",
       "0           1        337          118                  4  4.5   4.5  9.65   \n",
       "1           2        324          107                  4  4.0   4.5  8.87   \n",
       "2           3        316          104                  3  3.0   3.5  8.00   \n",
       "3           4        322          110                  3  3.5   2.5  8.67   \n",
       "4           5        314          103                  2  2.0   3.0  8.21   \n",
       "\n",
       "   Research  Chance of Admit   \n",
       "0         1              0.92  \n",
       "1         1              0.76  \n",
       "2         1              0.72  \n",
       "3         1              0.80  \n",
       "4         0              0.65  "
      ]
     },
     "execution_count": 2,
     "metadata": {},
     "output_type": "execute_result"
    }
   ],
   "source": [
    "#Leitura prévia dos dados\n",
    "df = pd.read_csv(\"../input/graduate-admissions/Admission_Predict.csv\")\n",
    "df.head()"
   ]
  },
  {
   "cell_type": "code",
   "execution_count": 3,
   "id": "2eb1bbaa",
   "metadata": {
    "execution": {
     "iopub.execute_input": "2023-08-02T00:19:27.256040Z",
     "iopub.status.busy": "2023-08-02T00:19:27.255556Z",
     "iopub.status.idle": "2023-08-02T00:19:27.263691Z",
     "shell.execute_reply": "2023-08-02T00:19:27.262489Z"
    },
    "papermill": {
     "duration": 0.018685,
     "end_time": "2023-08-02T00:19:27.266257",
     "exception": false,
     "start_time": "2023-08-02T00:19:27.247572",
     "status": "completed"
    },
    "tags": []
   },
   "outputs": [
    {
     "data": {
      "text/plain": [
       "(400, 9)"
      ]
     },
     "execution_count": 3,
     "metadata": {},
     "output_type": "execute_result"
    }
   ],
   "source": [
    "# Número de linhas e de colunas da tabela\n",
    "df.shape"
   ]
  },
  {
   "cell_type": "code",
   "execution_count": 4,
   "id": "01fc950a",
   "metadata": {
    "execution": {
     "iopub.execute_input": "2023-08-02T00:19:27.281465Z",
     "iopub.status.busy": "2023-08-02T00:19:27.280958Z",
     "iopub.status.idle": "2023-08-02T00:19:27.290472Z",
     "shell.execute_reply": "2023-08-02T00:19:27.288929Z"
    },
    "papermill": {
     "duration": 0.020552,
     "end_time": "2023-08-02T00:19:27.293363",
     "exception": false,
     "start_time": "2023-08-02T00:19:27.272811",
     "status": "completed"
    },
    "tags": []
   },
   "outputs": [
    {
     "data": {
      "text/plain": [
       "Serial No.             int64\n",
       "GRE Score              int64\n",
       "TOEFL Score            int64\n",
       "University Rating      int64\n",
       "SOP                  float64\n",
       "LOR                  float64\n",
       "CGPA                 float64\n",
       "Research               int64\n",
       "Chance of Admit      float64\n",
       "dtype: object"
      ]
     },
     "execution_count": 4,
     "metadata": {},
     "output_type": "execute_result"
    }
   ],
   "source": [
    "#Tipo de dados de cada coluna\n",
    "df.dtypes"
   ]
  },
  {
   "cell_type": "code",
   "execution_count": 5,
   "id": "f8d8a760",
   "metadata": {
    "execution": {
     "iopub.execute_input": "2023-08-02T00:19:27.308511Z",
     "iopub.status.busy": "2023-08-02T00:19:27.308064Z",
     "iopub.status.idle": "2023-08-02T00:19:27.319077Z",
     "shell.execute_reply": "2023-08-02T00:19:27.317382Z"
    },
    "papermill": {
     "duration": 0.02161,
     "end_time": "2023-08-02T00:19:27.321515",
     "exception": false,
     "start_time": "2023-08-02T00:19:27.299905",
     "status": "completed"
    },
    "tags": []
   },
   "outputs": [
    {
     "name": "stdout",
     "output_type": "stream",
     "text": [
      "Serial No.           0\n",
      "GRE Score            0\n",
      "TOEFL Score          0\n",
      "University Rating    0\n",
      "SOP                  0\n",
      "LOR                  0\n",
      "CGPA                 0\n",
      "Research             0\n",
      "Chance of Admit      0\n",
      "dtype: int64\n"
     ]
    }
   ],
   "source": [
    "#Examinando as colunas vazias (NaN)\n",
    "faltantes = df.isnull().sum()\n",
    "print(faltantes)"
   ]
  },
  {
   "cell_type": "code",
   "execution_count": 6,
   "id": "e46b8542",
   "metadata": {
    "execution": {
     "iopub.execute_input": "2023-08-02T00:19:27.337094Z",
     "iopub.status.busy": "2023-08-02T00:19:27.336280Z",
     "iopub.status.idle": "2023-08-02T00:19:27.348514Z",
     "shell.execute_reply": "2023-08-02T00:19:27.347005Z"
    },
    "papermill": {
     "duration": 0.023375,
     "end_time": "2023-08-02T00:19:27.351520",
     "exception": false,
     "start_time": "2023-08-02T00:19:27.328145",
     "status": "completed"
    },
    "tags": []
   },
   "outputs": [],
   "source": [
    "#Descartando uma coluna inútil aos modelos\n",
    "df.drop('Serial No.',axis=1,inplace=True)"
   ]
  },
  {
   "cell_type": "code",
   "execution_count": 7,
   "id": "cc7c9d4c",
   "metadata": {
    "execution": {
     "iopub.execute_input": "2023-08-02T00:19:27.367991Z",
     "iopub.status.busy": "2023-08-02T00:19:27.367564Z",
     "iopub.status.idle": "2023-08-02T00:19:27.375731Z",
     "shell.execute_reply": "2023-08-02T00:19:27.374170Z"
    },
    "papermill": {
     "duration": 0.018719,
     "end_time": "2023-08-02T00:19:27.378006",
     "exception": false,
     "start_time": "2023-08-02T00:19:27.359287",
     "status": "completed"
    },
    "tags": []
   },
   "outputs": [],
   "source": [
    "#Separando variável target com variáveis independentes\n",
    "y = df['Chance of Admit ']\n",
    "x = df.drop('Chance of Admit ',axis=1)"
   ]
  },
  {
   "cell_type": "markdown",
   "id": "d75810ae",
   "metadata": {
    "papermill": {
     "duration": 0.006253,
     "end_time": "2023-08-02T00:19:27.390873",
     "exception": false,
     "start_time": "2023-08-02T00:19:27.384620",
     "status": "completed"
    },
    "tags": []
   },
   "source": [
    "## Aplicação de KFold"
   ]
  },
  {
   "cell_type": "code",
   "execution_count": 8,
   "id": "0daa8c0d",
   "metadata": {
    "execution": {
     "iopub.execute_input": "2023-08-02T00:19:27.405797Z",
     "iopub.status.busy": "2023-08-02T00:19:27.405372Z",
     "iopub.status.idle": "2023-08-02T00:19:28.978027Z",
     "shell.execute_reply": "2023-08-02T00:19:28.976960Z"
    },
    "papermill": {
     "duration": 1.583223,
     "end_time": "2023-08-02T00:19:28.980725",
     "exception": false,
     "start_time": "2023-08-02T00:19:27.397502",
     "status": "completed"
    },
    "tags": []
   },
   "outputs": [
    {
     "name": "stderr",
     "output_type": "stream",
     "text": [
      "/opt/conda/lib/python3.10/site-packages/scipy/__init__.py:146: UserWarning: A NumPy version >=1.16.5 and <1.23.0 is required for this version of SciPy (detected version 1.23.5\n",
      "  warnings.warn(f\"A NumPy version >={np_minversion} and <{np_maxversion}\"\n"
     ]
    }
   ],
   "source": [
    "from sklearn.model_selection import cross_val_score\n",
    "from sklearn.model_selection import KFold\n",
    "from sklearn.linear_model import LinearRegression\n"
   ]
  },
  {
   "cell_type": "code",
   "execution_count": 9,
   "id": "932bee62",
   "metadata": {
    "execution": {
     "iopub.execute_input": "2023-08-02T00:19:28.997784Z",
     "iopub.status.busy": "2023-08-02T00:19:28.997242Z",
     "iopub.status.idle": "2023-08-02T00:19:29.063513Z",
     "shell.execute_reply": "2023-08-02T00:19:29.062246Z"
    },
    "papermill": {
     "duration": 0.077994,
     "end_time": "2023-08-02T00:19:29.066893",
     "exception": false,
     "start_time": "2023-08-02T00:19:28.988899",
     "status": "completed"
    },
    "tags": []
   },
   "outputs": [],
   "source": [
    "modelo = LinearRegression()\n",
    "kfold = KFold(n_splits=5)\n",
    "resultado = cross_val_score(modelo,x,y,cv = kfold)"
   ]
  },
  {
   "cell_type": "code",
   "execution_count": 10,
   "id": "bea5a76c",
   "metadata": {
    "execution": {
     "iopub.execute_input": "2023-08-02T00:19:29.082833Z",
     "iopub.status.busy": "2023-08-02T00:19:29.082289Z",
     "iopub.status.idle": "2023-08-02T00:19:29.090000Z",
     "shell.execute_reply": "2023-08-02T00:19:29.088524Z"
    },
    "papermill": {
     "duration": 0.019295,
     "end_time": "2023-08-02T00:19:29.093097",
     "exception": false,
     "start_time": "2023-08-02T00:19:29.073802",
     "status": "completed"
    },
    "tags": []
   },
   "outputs": [
    {
     "name": "stdout",
     "output_type": "stream",
     "text": [
      "Valor de cada fold:  [0.66228895 0.76112209 0.78108683 0.84044015 0.81095904]\n",
      "\n",
      "Valor médio:  0.771179412106636\n"
     ]
    }
   ],
   "source": [
    "print('Valor de cada fold: ',resultado)\n",
    "print()\n",
    "print('Valor médio: ',resultado.mean())"
   ]
  },
  {
   "cell_type": "markdown",
   "id": "8a18818a",
   "metadata": {
    "papermill": {
     "duration": 0.006498,
     "end_time": "2023-08-02T00:19:29.106608",
     "exception": false,
     "start_time": "2023-08-02T00:19:29.100110",
     "status": "completed"
    },
    "tags": []
   },
   "source": [
    "## Aplicando  Validação Cruzada em Todas as Regressões Lineares"
   ]
  },
  {
   "cell_type": "code",
   "execution_count": 11,
   "id": "b73d3bfa",
   "metadata": {
    "execution": {
     "iopub.execute_input": "2023-08-02T00:19:29.122550Z",
     "iopub.status.busy": "2023-08-02T00:19:29.122053Z",
     "iopub.status.idle": "2023-08-02T00:19:29.134900Z",
     "shell.execute_reply": "2023-08-02T00:19:29.133514Z"
    },
    "papermill": {
     "duration": 0.02429,
     "end_time": "2023-08-02T00:19:29.137615",
     "exception": false,
     "start_time": "2023-08-02T00:19:29.113325",
     "status": "completed"
    },
    "tags": []
   },
   "outputs": [],
   "source": [
    "#Aplicação da função\n",
    "def modelosRegressao(x,y):\n",
    "\n",
    "    from sklearn.linear_model import LinearRegression,Ridge,Lasso,ElasticNet\n",
    "    from sklearn.model_selection import cross_val_score\n",
    "    from sklearn.model_selection import KFold\n",
    "\n",
    "    reg = LinearRegression()\n",
    "    ridge = Ridge()\n",
    "    lasso = Lasso()\n",
    "    elastic = ElasticNet()\n",
    "    \n",
    "    kfold = KFold(n_splits=10)\n",
    " \n",
    "\n",
    "    result_reg = cross_val_score(reg,x,y,cv = kfold)\n",
    "    result_ridge = cross_val_score(ridge,x,y,cv = kfold)\n",
    "    result_lasso = cross_val_score(lasso,x,y,cv = kfold)\n",
    "    result_elastic = cross_val_score(elastic,x,y,cv = kfold)\n",
    "\n",
    "    print(\"Resultado Linear: \", result_reg.mean())\n",
    "    print(\"Resultado Ridge: \", result_ridge.mean())\n",
    "    print(\"Resultado Lasso: \", result_lasso.mean())\n",
    "    print(\"Resultado Elastic: \", result_elastic.mean())\n",
    "\n",
    "    dic_regModels = {'Linear':result_reg.mean(),'Ridge':result_ridge.mean(),'Lasso':result_lasso.mean(),'Elastic':result_elastic.mean()}\n",
    "    melhor_modelo = max(dic_regModels,key=dic_regModels.get)\n",
    "\n",
    "    print()\n",
    "    print(\"Melhor modelo: \",melhor_modelo, ' com o valor de: ',dic_regModels[melhor_modelo])"
   ]
  },
  {
   "cell_type": "code",
   "execution_count": 12,
   "id": "1b4e3aba",
   "metadata": {
    "execution": {
     "iopub.execute_input": "2023-08-02T00:19:29.153867Z",
     "iopub.status.busy": "2023-08-02T00:19:29.153369Z",
     "iopub.status.idle": "2023-08-02T00:19:29.394303Z",
     "shell.execute_reply": "2023-08-02T00:19:29.393459Z"
    },
    "papermill": {
     "duration": 0.252562,
     "end_time": "2023-08-02T00:19:29.397209",
     "exception": false,
     "start_time": "2023-08-02T00:19:29.144647",
     "status": "completed"
    },
    "tags": []
   },
   "outputs": [
    {
     "name": "stdout",
     "output_type": "stream",
     "text": [
      "Resultado Linear:  0.7703825020879943\n",
      "Resultado Ridge:  0.7705725482928705\n",
      "Resultado Lasso:  0.1827727619979103\n",
      "Resultado Elastic:  0.4962376743697495\n",
      "\n",
      "Melhor modelo:  Ridge  com o valor de:  0.7705725482928705\n"
     ]
    }
   ],
   "source": [
    "# Mostrando os resultados\n",
    "modelosRegressao(x,y)\n",
    "\n"
   ]
  },
  {
   "cell_type": "markdown",
   "id": "2b5d6e53",
   "metadata": {
    "papermill": {
     "duration": 0.00676,
     "end_time": "2023-08-02T00:19:29.411026",
     "exception": false,
     "start_time": "2023-08-02T00:19:29.404266",
     "status": "completed"
    },
    "tags": []
   },
   "source": [
    "## Conclusão\n",
    "\n",
    "É interessante reparar como houve uma diferença na precisão dos modelos mas a ordem dos modelos que perfomaram melhor e pior manteve-se a mesma, com Ridge sendo o melhor modelo e Lasso o pior para este conjunto de dados."
   ]
  }
 ],
 "metadata": {
  "kernelspec": {
   "display_name": "Python 3",
   "language": "python",
   "name": "python3"
  },
  "language_info": {
   "codemirror_mode": {
    "name": "ipython",
    "version": 3
   },
   "file_extension": ".py",
   "mimetype": "text/x-python",
   "name": "python",
   "nbconvert_exporter": "python",
   "pygments_lexer": "ipython3",
   "version": "3.10.12"
  },
  "papermill": {
   "default_parameters": {},
   "duration": 16.761101,
   "end_time": "2023-08-02T00:19:30.845534",
   "environment_variables": {},
   "exception": null,
   "input_path": "__notebook__.ipynb",
   "output_path": "__notebook__.ipynb",
   "parameters": {},
   "start_time": "2023-08-02T00:19:14.084433",
   "version": "2.4.0"
  }
 },
 "nbformat": 4,
 "nbformat_minor": 5
}
