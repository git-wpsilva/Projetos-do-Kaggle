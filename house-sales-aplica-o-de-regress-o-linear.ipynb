{
 "cells": [
  {
   "cell_type": "markdown",
   "id": "d715abec",
   "metadata": {
    "papermill": {
     "duration": 0.007616,
     "end_time": "2023-07-31T02:27:29.935735",
     "exception": false,
     "start_time": "2023-07-31T02:27:29.928119",
     "status": "completed"
    },
    "tags": []
   },
   "source": [
    "# Aplicação dos Modelos de Regressão Linear\n",
    "\n",
    "Usando outro dataset, este exercício é uma continuação do: \n",
    "> [Kaggle Notebook | Escolhendo um modelo de Regressão](https://github.com/git-wpsilva/Projetos-do-Kaggle/blob/main/escolhendo-um-modelo-de-regress-o.ipynb)"
   ]
  },
  {
   "cell_type": "code",
   "execution_count": 1,
   "id": "bafe181c",
   "metadata": {
    "_cell_guid": "b1076dfc-b9ad-4769-8c92-a6c4dae69d19",
    "_uuid": "8f2839f25d086af736a60e9eeb907d3b93b6e0e5",
    "execution": {
     "iopub.execute_input": "2023-07-31T02:27:29.951478Z",
     "iopub.status.busy": "2023-07-31T02:27:29.951077Z",
     "iopub.status.idle": "2023-07-31T02:27:31.445116Z",
     "shell.execute_reply": "2023-07-31T02:27:31.443545Z"
    },
    "jupyter": {
     "source_hidden": true
    },
    "papermill": {
     "duration": 1.50516,
     "end_time": "2023-07-31T02:27:31.448019",
     "exception": false,
     "start_time": "2023-07-31T02:27:29.942859",
     "status": "completed"
    },
    "tags": []
   },
   "outputs": [
    {
     "name": "stderr",
     "output_type": "stream",
     "text": [
      "/opt/conda/lib/python3.10/site-packages/scipy/__init__.py:146: UserWarning: A NumPy version >=1.16.5 and <1.23.0 is required for this version of SciPy (detected version 1.23.5\n",
      "  warnings.warn(f\"A NumPy version >={np_minversion} and <{np_maxversion}\"\n"
     ]
    },
    {
     "name": "stdout",
     "output_type": "stream",
     "text": [
      "/kaggle/input/housesalesprediction/kc_house_data.csv\n"
     ]
    }
   ],
   "source": [
    "import numpy as np \n",
    "import pandas as pd \n",
    "from sklearn.model_selection import train_test_split\n",
    "from sklearn.linear_model import LinearRegression\n",
    "\n",
    "import os\n",
    "for dirname, _, filenames in os.walk('/kaggle/input'):\n",
    "    for filename in filenames:\n",
    "        print(os.path.join(dirname, filename))\n",
    "\n"
   ]
  },
  {
   "cell_type": "code",
   "execution_count": 2,
   "id": "7d2955ba",
   "metadata": {
    "execution": {
     "iopub.execute_input": "2023-07-31T02:27:31.465335Z",
     "iopub.status.busy": "2023-07-31T02:27:31.464557Z",
     "iopub.status.idle": "2023-07-31T02:27:31.619740Z",
     "shell.execute_reply": "2023-07-31T02:27:31.618490Z"
    },
    "papermill": {
     "duration": 0.167086,
     "end_time": "2023-07-31T02:27:31.622810",
     "exception": false,
     "start_time": "2023-07-31T02:27:31.455724",
     "status": "completed"
    },
    "tags": []
   },
   "outputs": [
    {
     "data": {
      "text/html": [
       "<div>\n",
       "<style scoped>\n",
       "    .dataframe tbody tr th:only-of-type {\n",
       "        vertical-align: middle;\n",
       "    }\n",
       "\n",
       "    .dataframe tbody tr th {\n",
       "        vertical-align: top;\n",
       "    }\n",
       "\n",
       "    .dataframe thead th {\n",
       "        text-align: right;\n",
       "    }\n",
       "</style>\n",
       "<table border=\"1\" class=\"dataframe\">\n",
       "  <thead>\n",
       "    <tr style=\"text-align: right;\">\n",
       "      <th></th>\n",
       "      <th>id</th>\n",
       "      <th>date</th>\n",
       "      <th>price</th>\n",
       "      <th>bedrooms</th>\n",
       "      <th>bathrooms</th>\n",
       "      <th>sqft_living</th>\n",
       "      <th>sqft_lot</th>\n",
       "      <th>floors</th>\n",
       "      <th>waterfront</th>\n",
       "      <th>view</th>\n",
       "      <th>condition</th>\n",
       "      <th>grade</th>\n",
       "      <th>sqft_above</th>\n",
       "      <th>sqft_basement</th>\n",
       "      <th>yr_built</th>\n",
       "      <th>yr_renovated</th>\n",
       "      <th>zipcode</th>\n",
       "      <th>lat</th>\n",
       "      <th>long</th>\n",
       "      <th>sqft_living15</th>\n",
       "      <th>sqft_lot15</th>\n",
       "    </tr>\n",
       "  </thead>\n",
       "  <tbody>\n",
       "    <tr>\n",
       "      <th>0</th>\n",
       "      <td>7129300520</td>\n",
       "      <td>20141013T000000</td>\n",
       "      <td>221900.0</td>\n",
       "      <td>3</td>\n",
       "      <td>1.00</td>\n",
       "      <td>1180</td>\n",
       "      <td>5650</td>\n",
       "      <td>1.0</td>\n",
       "      <td>0</td>\n",
       "      <td>0</td>\n",
       "      <td>3</td>\n",
       "      <td>7</td>\n",
       "      <td>1180</td>\n",
       "      <td>0</td>\n",
       "      <td>1955</td>\n",
       "      <td>0</td>\n",
       "      <td>98178</td>\n",
       "      <td>47.5112</td>\n",
       "      <td>-122.257</td>\n",
       "      <td>1340</td>\n",
       "      <td>5650</td>\n",
       "    </tr>\n",
       "    <tr>\n",
       "      <th>1</th>\n",
       "      <td>6414100192</td>\n",
       "      <td>20141209T000000</td>\n",
       "      <td>538000.0</td>\n",
       "      <td>3</td>\n",
       "      <td>2.25</td>\n",
       "      <td>2570</td>\n",
       "      <td>7242</td>\n",
       "      <td>2.0</td>\n",
       "      <td>0</td>\n",
       "      <td>0</td>\n",
       "      <td>3</td>\n",
       "      <td>7</td>\n",
       "      <td>2170</td>\n",
       "      <td>400</td>\n",
       "      <td>1951</td>\n",
       "      <td>1991</td>\n",
       "      <td>98125</td>\n",
       "      <td>47.7210</td>\n",
       "      <td>-122.319</td>\n",
       "      <td>1690</td>\n",
       "      <td>7639</td>\n",
       "    </tr>\n",
       "    <tr>\n",
       "      <th>2</th>\n",
       "      <td>5631500400</td>\n",
       "      <td>20150225T000000</td>\n",
       "      <td>180000.0</td>\n",
       "      <td>2</td>\n",
       "      <td>1.00</td>\n",
       "      <td>770</td>\n",
       "      <td>10000</td>\n",
       "      <td>1.0</td>\n",
       "      <td>0</td>\n",
       "      <td>0</td>\n",
       "      <td>3</td>\n",
       "      <td>6</td>\n",
       "      <td>770</td>\n",
       "      <td>0</td>\n",
       "      <td>1933</td>\n",
       "      <td>0</td>\n",
       "      <td>98028</td>\n",
       "      <td>47.7379</td>\n",
       "      <td>-122.233</td>\n",
       "      <td>2720</td>\n",
       "      <td>8062</td>\n",
       "    </tr>\n",
       "    <tr>\n",
       "      <th>3</th>\n",
       "      <td>2487200875</td>\n",
       "      <td>20141209T000000</td>\n",
       "      <td>604000.0</td>\n",
       "      <td>4</td>\n",
       "      <td>3.00</td>\n",
       "      <td>1960</td>\n",
       "      <td>5000</td>\n",
       "      <td>1.0</td>\n",
       "      <td>0</td>\n",
       "      <td>0</td>\n",
       "      <td>5</td>\n",
       "      <td>7</td>\n",
       "      <td>1050</td>\n",
       "      <td>910</td>\n",
       "      <td>1965</td>\n",
       "      <td>0</td>\n",
       "      <td>98136</td>\n",
       "      <td>47.5208</td>\n",
       "      <td>-122.393</td>\n",
       "      <td>1360</td>\n",
       "      <td>5000</td>\n",
       "    </tr>\n",
       "    <tr>\n",
       "      <th>4</th>\n",
       "      <td>1954400510</td>\n",
       "      <td>20150218T000000</td>\n",
       "      <td>510000.0</td>\n",
       "      <td>3</td>\n",
       "      <td>2.00</td>\n",
       "      <td>1680</td>\n",
       "      <td>8080</td>\n",
       "      <td>1.0</td>\n",
       "      <td>0</td>\n",
       "      <td>0</td>\n",
       "      <td>3</td>\n",
       "      <td>8</td>\n",
       "      <td>1680</td>\n",
       "      <td>0</td>\n",
       "      <td>1987</td>\n",
       "      <td>0</td>\n",
       "      <td>98074</td>\n",
       "      <td>47.6168</td>\n",
       "      <td>-122.045</td>\n",
       "      <td>1800</td>\n",
       "      <td>7503</td>\n",
       "    </tr>\n",
       "  </tbody>\n",
       "</table>\n",
       "</div>"
      ],
      "text/plain": [
       "           id             date     price  bedrooms  bathrooms  sqft_living  \\\n",
       "0  7129300520  20141013T000000  221900.0         3       1.00         1180   \n",
       "1  6414100192  20141209T000000  538000.0         3       2.25         2570   \n",
       "2  5631500400  20150225T000000  180000.0         2       1.00          770   \n",
       "3  2487200875  20141209T000000  604000.0         4       3.00         1960   \n",
       "4  1954400510  20150218T000000  510000.0         3       2.00         1680   \n",
       "\n",
       "   sqft_lot  floors  waterfront  view  condition  grade  sqft_above  \\\n",
       "0      5650     1.0           0     0          3      7        1180   \n",
       "1      7242     2.0           0     0          3      7        2170   \n",
       "2     10000     1.0           0     0          3      6         770   \n",
       "3      5000     1.0           0     0          5      7        1050   \n",
       "4      8080     1.0           0     0          3      8        1680   \n",
       "\n",
       "   sqft_basement  yr_built  yr_renovated  zipcode      lat     long  \\\n",
       "0              0      1955             0    98178  47.5112 -122.257   \n",
       "1            400      1951          1991    98125  47.7210 -122.319   \n",
       "2              0      1933             0    98028  47.7379 -122.233   \n",
       "3            910      1965             0    98136  47.5208 -122.393   \n",
       "4              0      1987             0    98074  47.6168 -122.045   \n",
       "\n",
       "   sqft_living15  sqft_lot15  \n",
       "0           1340        5650  \n",
       "1           1690        7639  \n",
       "2           2720        8062  \n",
       "3           1360        5000  \n",
       "4           1800        7503  "
      ]
     },
     "execution_count": 2,
     "metadata": {},
     "output_type": "execute_result"
    }
   ],
   "source": [
    "#Essa função garante a visibilidade do head() com todas as colunas, no caso, 21 colunas\n",
    "pd.set_option('display.max_columns',21)\n",
    "df = pd.read_csv(\"../input/housesalesprediction/kc_house_data.csv\")\n",
    "df.head()"
   ]
  },
  {
   "cell_type": "code",
   "execution_count": 3,
   "id": "98bb8a55",
   "metadata": {
    "execution": {
     "iopub.execute_input": "2023-07-31T02:27:31.642193Z",
     "iopub.status.busy": "2023-07-31T02:27:31.641738Z",
     "iopub.status.idle": "2023-07-31T02:27:31.663603Z",
     "shell.execute_reply": "2023-07-31T02:27:31.662201Z"
    },
    "papermill": {
     "duration": 0.036114,
     "end_time": "2023-07-31T02:27:31.666425",
     "exception": false,
     "start_time": "2023-07-31T02:27:31.630311",
     "status": "completed"
    },
    "tags": []
   },
   "outputs": [],
   "source": [
    "#Excluindo features irrelevantes\n",
    "df.drop('id',axis = 1, inplace = True)\n",
    "df.drop('date',axis = 1, inplace = True)\n",
    "df.drop('zipcode',axis = 1, inplace = True)\n",
    "df.drop('lat',axis = 1, inplace = True)\n",
    "df.drop('long',axis = 1, inplace = True)"
   ]
  },
  {
   "cell_type": "markdown",
   "id": "c5b76351",
   "metadata": {
    "papermill": {
     "duration": 0.007311,
     "end_time": "2023-07-31T02:27:31.681622",
     "exception": false,
     "start_time": "2023-07-31T02:27:31.674311",
     "status": "completed"
    },
    "tags": []
   },
   "source": [
    "**axis** é o parâmetro que diz se a alteração será feita em linhas inteiras ou em uma coluna inteira.\n",
    "* axis = 1 coluna\n",
    "* axis = 0 linha\n",
    "\n",
    "Já o **inplace** indica se a alteração será feita em uma cópia do dataframe (inplace = False), ou substituirá o dataframe original (inplace = True), o default deste parâmetro é false."
   ]
  },
  {
   "cell_type": "code",
   "execution_count": 4,
   "id": "40afd265",
   "metadata": {
    "execution": {
     "iopub.execute_input": "2023-07-31T02:27:31.699297Z",
     "iopub.status.busy": "2023-07-31T02:27:31.698861Z",
     "iopub.status.idle": "2023-07-31T02:27:31.718788Z",
     "shell.execute_reply": "2023-07-31T02:27:31.717246Z"
    },
    "papermill": {
     "duration": 0.032353,
     "end_time": "2023-07-31T02:27:31.721661",
     "exception": false,
     "start_time": "2023-07-31T02:27:31.689308",
     "status": "completed"
    },
    "tags": []
   },
   "outputs": [
    {
     "data": {
      "text/html": [
       "<div>\n",
       "<style scoped>\n",
       "    .dataframe tbody tr th:only-of-type {\n",
       "        vertical-align: middle;\n",
       "    }\n",
       "\n",
       "    .dataframe tbody tr th {\n",
       "        vertical-align: top;\n",
       "    }\n",
       "\n",
       "    .dataframe thead th {\n",
       "        text-align: right;\n",
       "    }\n",
       "</style>\n",
       "<table border=\"1\" class=\"dataframe\">\n",
       "  <thead>\n",
       "    <tr style=\"text-align: right;\">\n",
       "      <th></th>\n",
       "      <th>price</th>\n",
       "      <th>bedrooms</th>\n",
       "      <th>bathrooms</th>\n",
       "      <th>sqft_living</th>\n",
       "      <th>sqft_lot</th>\n",
       "      <th>floors</th>\n",
       "      <th>waterfront</th>\n",
       "      <th>view</th>\n",
       "      <th>condition</th>\n",
       "      <th>grade</th>\n",
       "      <th>sqft_above</th>\n",
       "      <th>sqft_basement</th>\n",
       "      <th>yr_built</th>\n",
       "      <th>yr_renovated</th>\n",
       "      <th>sqft_living15</th>\n",
       "      <th>sqft_lot15</th>\n",
       "    </tr>\n",
       "  </thead>\n",
       "  <tbody>\n",
       "    <tr>\n",
       "      <th>0</th>\n",
       "      <td>221900.0</td>\n",
       "      <td>3</td>\n",
       "      <td>1.00</td>\n",
       "      <td>1180</td>\n",
       "      <td>5650</td>\n",
       "      <td>1.0</td>\n",
       "      <td>0</td>\n",
       "      <td>0</td>\n",
       "      <td>3</td>\n",
       "      <td>7</td>\n",
       "      <td>1180</td>\n",
       "      <td>0</td>\n",
       "      <td>1955</td>\n",
       "      <td>0</td>\n",
       "      <td>1340</td>\n",
       "      <td>5650</td>\n",
       "    </tr>\n",
       "    <tr>\n",
       "      <th>1</th>\n",
       "      <td>538000.0</td>\n",
       "      <td>3</td>\n",
       "      <td>2.25</td>\n",
       "      <td>2570</td>\n",
       "      <td>7242</td>\n",
       "      <td>2.0</td>\n",
       "      <td>0</td>\n",
       "      <td>0</td>\n",
       "      <td>3</td>\n",
       "      <td>7</td>\n",
       "      <td>2170</td>\n",
       "      <td>400</td>\n",
       "      <td>1951</td>\n",
       "      <td>1991</td>\n",
       "      <td>1690</td>\n",
       "      <td>7639</td>\n",
       "    </tr>\n",
       "    <tr>\n",
       "      <th>2</th>\n",
       "      <td>180000.0</td>\n",
       "      <td>2</td>\n",
       "      <td>1.00</td>\n",
       "      <td>770</td>\n",
       "      <td>10000</td>\n",
       "      <td>1.0</td>\n",
       "      <td>0</td>\n",
       "      <td>0</td>\n",
       "      <td>3</td>\n",
       "      <td>6</td>\n",
       "      <td>770</td>\n",
       "      <td>0</td>\n",
       "      <td>1933</td>\n",
       "      <td>0</td>\n",
       "      <td>2720</td>\n",
       "      <td>8062</td>\n",
       "    </tr>\n",
       "    <tr>\n",
       "      <th>3</th>\n",
       "      <td>604000.0</td>\n",
       "      <td>4</td>\n",
       "      <td>3.00</td>\n",
       "      <td>1960</td>\n",
       "      <td>5000</td>\n",
       "      <td>1.0</td>\n",
       "      <td>0</td>\n",
       "      <td>0</td>\n",
       "      <td>5</td>\n",
       "      <td>7</td>\n",
       "      <td>1050</td>\n",
       "      <td>910</td>\n",
       "      <td>1965</td>\n",
       "      <td>0</td>\n",
       "      <td>1360</td>\n",
       "      <td>5000</td>\n",
       "    </tr>\n",
       "    <tr>\n",
       "      <th>4</th>\n",
       "      <td>510000.0</td>\n",
       "      <td>3</td>\n",
       "      <td>2.00</td>\n",
       "      <td>1680</td>\n",
       "      <td>8080</td>\n",
       "      <td>1.0</td>\n",
       "      <td>0</td>\n",
       "      <td>0</td>\n",
       "      <td>3</td>\n",
       "      <td>8</td>\n",
       "      <td>1680</td>\n",
       "      <td>0</td>\n",
       "      <td>1987</td>\n",
       "      <td>0</td>\n",
       "      <td>1800</td>\n",
       "      <td>7503</td>\n",
       "    </tr>\n",
       "  </tbody>\n",
       "</table>\n",
       "</div>"
      ],
      "text/plain": [
       "      price  bedrooms  bathrooms  sqft_living  sqft_lot  floors  waterfront  \\\n",
       "0  221900.0         3       1.00         1180      5650     1.0           0   \n",
       "1  538000.0         3       2.25         2570      7242     2.0           0   \n",
       "2  180000.0         2       1.00          770     10000     1.0           0   \n",
       "3  604000.0         4       3.00         1960      5000     1.0           0   \n",
       "4  510000.0         3       2.00         1680      8080     1.0           0   \n",
       "\n",
       "   view  condition  grade  sqft_above  sqft_basement  yr_built  yr_renovated  \\\n",
       "0     0          3      7        1180              0      1955             0   \n",
       "1     0          3      7        2170            400      1951          1991   \n",
       "2     0          3      6         770              0      1933             0   \n",
       "3     0          5      7        1050            910      1965             0   \n",
       "4     0          3      8        1680              0      1987             0   \n",
       "\n",
       "   sqft_living15  sqft_lot15  \n",
       "0           1340        5650  \n",
       "1           1690        7639  \n",
       "2           2720        8062  \n",
       "3           1360        5000  \n",
       "4           1800        7503  "
      ]
     },
     "execution_count": 4,
     "metadata": {},
     "output_type": "execute_result"
    }
   ],
   "source": [
    "df.head()"
   ]
  },
  {
   "cell_type": "code",
   "execution_count": 5,
   "id": "8f15e0d9",
   "metadata": {
    "execution": {
     "iopub.execute_input": "2023-07-31T02:27:31.741379Z",
     "iopub.status.busy": "2023-07-31T02:27:31.740884Z",
     "iopub.status.idle": "2023-07-31T02:27:31.748217Z",
     "shell.execute_reply": "2023-07-31T02:27:31.747258Z"
    },
    "papermill": {
     "duration": 0.020869,
     "end_time": "2023-07-31T02:27:31.750820",
     "exception": false,
     "start_time": "2023-07-31T02:27:31.729951",
     "status": "completed"
    },
    "tags": []
   },
   "outputs": [],
   "source": [
    "#Definindo variáveis preditoras e variável target\n",
    "y = df['price']\n",
    "x = df.drop('price', axis=1)"
   ]
  },
  {
   "cell_type": "code",
   "execution_count": 6,
   "id": "36af0455",
   "metadata": {
    "execution": {
     "iopub.execute_input": "2023-07-31T02:27:31.769870Z",
     "iopub.status.busy": "2023-07-31T02:27:31.769061Z",
     "iopub.status.idle": "2023-07-31T02:27:31.780082Z",
     "shell.execute_reply": "2023-07-31T02:27:31.778776Z"
    },
    "papermill": {
     "duration": 0.023622,
     "end_time": "2023-07-31T02:27:31.782918",
     "exception": false,
     "start_time": "2023-07-31T02:27:31.759296",
     "status": "completed"
    },
    "tags": []
   },
   "outputs": [],
   "source": [
    "#Separando os dados em treino e teste\n",
    "x_treino,x_teste,y_treino,y_teste = train_test_split(x,y,test_size = 0.3, random_state = 14)"
   ]
  },
  {
   "cell_type": "markdown",
   "id": "89b872c5",
   "metadata": {
    "papermill": {
     "duration": 0.007482,
     "end_time": "2023-07-31T02:27:31.799797",
     "exception": false,
     "start_time": "2023-07-31T02:27:31.792315",
     "status": "completed"
    },
    "tags": []
   },
   "source": [
    "### Com Regressão Linear"
   ]
  },
  {
   "cell_type": "code",
   "execution_count": 7,
   "id": "327f38d3",
   "metadata": {
    "execution": {
     "iopub.execute_input": "2023-07-31T02:27:31.817180Z",
     "iopub.status.busy": "2023-07-31T02:27:31.816721Z",
     "iopub.status.idle": "2023-07-31T02:27:31.874766Z",
     "shell.execute_reply": "2023-07-31T02:27:31.872999Z"
    },
    "papermill": {
     "duration": 0.07172,
     "end_time": "2023-07-31T02:27:31.879283",
     "exception": false,
     "start_time": "2023-07-31T02:27:31.807563",
     "status": "completed"
    },
    "tags": []
   },
   "outputs": [
    {
     "data": {
      "text/html": [
       "<style>#sk-container-id-1 {color: black;background-color: white;}#sk-container-id-1 pre{padding: 0;}#sk-container-id-1 div.sk-toggleable {background-color: white;}#sk-container-id-1 label.sk-toggleable__label {cursor: pointer;display: block;width: 100%;margin-bottom: 0;padding: 0.3em;box-sizing: border-box;text-align: center;}#sk-container-id-1 label.sk-toggleable__label-arrow:before {content: \"▸\";float: left;margin-right: 0.25em;color: #696969;}#sk-container-id-1 label.sk-toggleable__label-arrow:hover:before {color: black;}#sk-container-id-1 div.sk-estimator:hover label.sk-toggleable__label-arrow:before {color: black;}#sk-container-id-1 div.sk-toggleable__content {max-height: 0;max-width: 0;overflow: hidden;text-align: left;background-color: #f0f8ff;}#sk-container-id-1 div.sk-toggleable__content pre {margin: 0.2em;color: black;border-radius: 0.25em;background-color: #f0f8ff;}#sk-container-id-1 input.sk-toggleable__control:checked~div.sk-toggleable__content {max-height: 200px;max-width: 100%;overflow: auto;}#sk-container-id-1 input.sk-toggleable__control:checked~label.sk-toggleable__label-arrow:before {content: \"▾\";}#sk-container-id-1 div.sk-estimator input.sk-toggleable__control:checked~label.sk-toggleable__label {background-color: #d4ebff;}#sk-container-id-1 div.sk-label input.sk-toggleable__control:checked~label.sk-toggleable__label {background-color: #d4ebff;}#sk-container-id-1 input.sk-hidden--visually {border: 0;clip: rect(1px 1px 1px 1px);clip: rect(1px, 1px, 1px, 1px);height: 1px;margin: -1px;overflow: hidden;padding: 0;position: absolute;width: 1px;}#sk-container-id-1 div.sk-estimator {font-family: monospace;background-color: #f0f8ff;border: 1px dotted black;border-radius: 0.25em;box-sizing: border-box;margin-bottom: 0.5em;}#sk-container-id-1 div.sk-estimator:hover {background-color: #d4ebff;}#sk-container-id-1 div.sk-parallel-item::after {content: \"\";width: 100%;border-bottom: 1px solid gray;flex-grow: 1;}#sk-container-id-1 div.sk-label:hover label.sk-toggleable__label {background-color: #d4ebff;}#sk-container-id-1 div.sk-serial::before {content: \"\";position: absolute;border-left: 1px solid gray;box-sizing: border-box;top: 0;bottom: 0;left: 50%;z-index: 0;}#sk-container-id-1 div.sk-serial {display: flex;flex-direction: column;align-items: center;background-color: white;padding-right: 0.2em;padding-left: 0.2em;position: relative;}#sk-container-id-1 div.sk-item {position: relative;z-index: 1;}#sk-container-id-1 div.sk-parallel {display: flex;align-items: stretch;justify-content: center;background-color: white;position: relative;}#sk-container-id-1 div.sk-item::before, #sk-container-id-1 div.sk-parallel-item::before {content: \"\";position: absolute;border-left: 1px solid gray;box-sizing: border-box;top: 0;bottom: 0;left: 50%;z-index: -1;}#sk-container-id-1 div.sk-parallel-item {display: flex;flex-direction: column;z-index: 1;position: relative;background-color: white;}#sk-container-id-1 div.sk-parallel-item:first-child::after {align-self: flex-end;width: 50%;}#sk-container-id-1 div.sk-parallel-item:last-child::after {align-self: flex-start;width: 50%;}#sk-container-id-1 div.sk-parallel-item:only-child::after {width: 0;}#sk-container-id-1 div.sk-dashed-wrapped {border: 1px dashed gray;margin: 0 0.4em 0.5em 0.4em;box-sizing: border-box;padding-bottom: 0.4em;background-color: white;}#sk-container-id-1 div.sk-label label {font-family: monospace;font-weight: bold;display: inline-block;line-height: 1.2em;}#sk-container-id-1 div.sk-label-container {text-align: center;}#sk-container-id-1 div.sk-container {/* jupyter's `normalize.less` sets `[hidden] { display: none; }` but bootstrap.min.css set `[hidden] { display: none !important; }` so we also need the `!important` here to be able to override the default hidden behavior on the sphinx rendered scikit-learn.org. See: https://github.com/scikit-learn/scikit-learn/issues/21755 */display: inline-block !important;position: relative;}#sk-container-id-1 div.sk-text-repr-fallback {display: none;}</style><div id=\"sk-container-id-1\" class=\"sk-top-container\"><div class=\"sk-text-repr-fallback\"><pre>LinearRegression()</pre><b>In a Jupyter environment, please rerun this cell to show the HTML representation or trust the notebook. <br />On GitHub, the HTML representation is unable to render, please try loading this page with nbviewer.org.</b></div><div class=\"sk-container\" hidden><div class=\"sk-item\"><div class=\"sk-estimator sk-toggleable\"><input class=\"sk-toggleable__control sk-hidden--visually\" id=\"sk-estimator-id-1\" type=\"checkbox\" checked><label for=\"sk-estimator-id-1\" class=\"sk-toggleable__label sk-toggleable__label-arrow\">LinearRegression</label><div class=\"sk-toggleable__content\"><pre>LinearRegression()</pre></div></div></div></div></div>"
      ],
      "text/plain": [
       "LinearRegression()"
      ]
     },
     "execution_count": 7,
     "metadata": {},
     "output_type": "execute_result"
    }
   ],
   "source": [
    "#Criando o modelo\n",
    "modelo = LinearRegression()\n",
    "modelo.fit(x_treino,y_treino)"
   ]
  },
  {
   "cell_type": "code",
   "execution_count": 8,
   "id": "1558981d",
   "metadata": {
    "execution": {
     "iopub.execute_input": "2023-07-31T02:27:31.916069Z",
     "iopub.status.busy": "2023-07-31T02:27:31.915308Z",
     "iopub.status.idle": "2023-07-31T02:27:31.941444Z",
     "shell.execute_reply": "2023-07-31T02:27:31.939304Z"
    },
    "papermill": {
     "duration": 0.050085,
     "end_time": "2023-07-31T02:27:31.946261",
     "exception": false,
     "start_time": "2023-07-31T02:27:31.896176",
     "status": "completed"
    },
    "tags": []
   },
   "outputs": [
    {
     "name": "stdout",
     "output_type": "stream",
     "text": [
      "0.6538094196280744\n"
     ]
    }
   ],
   "source": [
    "#Calculando o coeficiente R2\n",
    "resultado = modelo.score(x_teste,y_teste)\n",
    "print(resultado)"
   ]
  },
  {
   "cell_type": "markdown",
   "id": "1c0a3a80",
   "metadata": {
    "papermill": {
     "duration": 0.016887,
     "end_time": "2023-07-31T02:27:31.987740",
     "exception": false,
     "start_time": "2023-07-31T02:27:31.970853",
     "status": "completed"
    },
    "tags": []
   },
   "source": [
    "### Com Regressão de Ridge"
   ]
  },
  {
   "cell_type": "code",
   "execution_count": 9,
   "id": "02830eff",
   "metadata": {
    "execution": {
     "iopub.execute_input": "2023-07-31T02:27:32.026244Z",
     "iopub.status.busy": "2023-07-31T02:27:32.025528Z",
     "iopub.status.idle": "2023-07-31T02:27:32.061443Z",
     "shell.execute_reply": "2023-07-31T02:27:32.059617Z"
    },
    "papermill": {
     "duration": 0.061498,
     "end_time": "2023-07-31T02:27:32.067032",
     "exception": false,
     "start_time": "2023-07-31T02:27:32.005534",
     "status": "completed"
    },
    "tags": []
   },
   "outputs": [
    {
     "name": "stdout",
     "output_type": "stream",
     "text": [
      "0.6533596081720607\n"
     ]
    }
   ],
   "source": [
    "from sklearn.linear_model import Ridge\n",
    "modeloRidge = Ridge(alpha=100,tol=0.1)\n",
    "modeloRidge.fit(x_treino,y_treino)\n",
    "ResultadoRidge = modeloRidge.score(x_teste,y_teste)\n",
    "print(ResultadoRidge)"
   ]
  },
  {
   "cell_type": "markdown",
   "id": "dd5942af",
   "metadata": {
    "papermill": {
     "duration": 0.016863,
     "end_time": "2023-07-31T02:27:32.102580",
     "exception": false,
     "start_time": "2023-07-31T02:27:32.085717",
     "status": "completed"
    },
    "tags": []
   },
   "source": [
    "### Com Regressão de Lasso"
   ]
  },
  {
   "cell_type": "code",
   "execution_count": 10,
   "id": "bd7a9ba6",
   "metadata": {
    "execution": {
     "iopub.execute_input": "2023-07-31T02:27:32.141244Z",
     "iopub.status.busy": "2023-07-31T02:27:32.140532Z",
     "iopub.status.idle": "2023-07-31T02:27:32.211022Z",
     "shell.execute_reply": "2023-07-31T02:27:32.209013Z"
    },
    "papermill": {
     "duration": 0.096003,
     "end_time": "2023-07-31T02:27:32.216756",
     "exception": false,
     "start_time": "2023-07-31T02:27:32.120753",
     "status": "completed"
    },
    "tags": []
   },
   "outputs": [
    {
     "name": "stdout",
     "output_type": "stream",
     "text": [
      "0.6547706041742776\n"
     ]
    }
   ],
   "source": [
    "from sklearn.linear_model import Lasso\n",
    "modeloLasso = Lasso(alpha=1000,tol=0.1)\n",
    "modeloLasso.fit(x_treino,y_treino)\n",
    "ResultadoLasso = modeloLasso.score(x_teste,y_teste)\n",
    "print(ResultadoLasso)"
   ]
  },
  {
   "cell_type": "markdown",
   "id": "16044041",
   "metadata": {
    "papermill": {
     "duration": 0.039189,
     "end_time": "2023-07-31T02:27:32.281991",
     "exception": false,
     "start_time": "2023-07-31T02:27:32.242802",
     "status": "completed"
    },
    "tags": []
   },
   "source": [
    "### Com Elastic Net"
   ]
  },
  {
   "cell_type": "code",
   "execution_count": 11,
   "id": "bb1862ec",
   "metadata": {
    "execution": {
     "iopub.execute_input": "2023-07-31T02:27:32.323882Z",
     "iopub.status.busy": "2023-07-31T02:27:32.323443Z",
     "iopub.status.idle": "2023-07-31T02:27:32.358788Z",
     "shell.execute_reply": "2023-07-31T02:27:32.357038Z"
    },
    "papermill": {
     "duration": 0.05009,
     "end_time": "2023-07-31T02:27:32.363402",
     "exception": false,
     "start_time": "2023-07-31T02:27:32.313312",
     "status": "completed"
    },
    "tags": []
   },
   "outputs": [
    {
     "name": "stdout",
     "output_type": "stream",
     "text": [
      "0.6429961330013113\n"
     ]
    }
   ],
   "source": [
    "from sklearn.linear_model import ElasticNet\n",
    "modeloElasticNet = ElasticNet(alpha=1,tol=0.2, l1_ratio = 0.9)\n",
    "modeloElasticNet.fit(x_treino,y_treino)\n",
    "ResultadoElasticNet = modeloElasticNet.score(x_teste,y_teste)\n",
    "print(ResultadoElasticNet)"
   ]
  },
  {
   "cell_type": "markdown",
   "id": "1440899b",
   "metadata": {
    "papermill": {
     "duration": 0.030758,
     "end_time": "2023-07-31T02:27:32.425981",
     "exception": false,
     "start_time": "2023-07-31T02:27:32.395223",
     "status": "completed"
    },
    "tags": []
   },
   "source": [
    "### Juntando tudo em uma única função"
   ]
  },
  {
   "cell_type": "code",
   "execution_count": 12,
   "id": "4d10dcd4",
   "metadata": {
    "execution": {
     "iopub.execute_input": "2023-07-31T02:27:32.474515Z",
     "iopub.status.busy": "2023-07-31T02:27:32.474057Z",
     "iopub.status.idle": "2023-07-31T02:27:32.484466Z",
     "shell.execute_reply": "2023-07-31T02:27:32.483232Z"
    },
    "papermill": {
     "duration": 0.023407,
     "end_time": "2023-07-31T02:27:32.486886",
     "exception": false,
     "start_time": "2023-07-31T02:27:32.463479",
     "status": "completed"
    },
    "tags": []
   },
   "outputs": [],
   "source": [
    "def modelosRegressao(a, b, c, d):\n",
    "\n",
    "    from sklearn.linear_model import LinearRegression,Ridge,Lasso,ElasticNet\n",
    "\n",
    "    x_treino = a\n",
    "    y_treino = b\n",
    "    x_teste = c\n",
    "    y_teste = d\n",
    "\n",
    "    reg = LinearRegression()\n",
    "    ridge = Ridge()\n",
    "    lasso = Lasso()\n",
    "    elastic = ElasticNet()\n",
    "\n",
    "    reg.fit(x_treino, y_treino)\n",
    "    ridge.fit(x_treino, y_treino)\n",
    "    lasso.fit(x_treino, y_treino)\n",
    "    elastic.fit(x_treino, y_treino)\n",
    "\n",
    "    result_reg = reg.score(x_teste, y_teste) \n",
    "    result_ridge = ridge.score(x_teste, y_teste)\n",
    "    result_lasso = lasso.score(x_teste, y_teste)\n",
    "    result_elastic = elastic.score(x_teste, y_teste)\n",
    "\n",
    "    print(\"Resultado Linear: \", result_reg)\n",
    "    print(\"Resultado Ridge: \", result_ridge)\n",
    "    print(\"Resultado Lasso: \", result_lasso)\n",
    "    print(\"Resultado Elastic: \", result_elastic)\n",
    "\n",
    "    dic_regModels = {'Linear':result_reg,'Ridge':result_ridge,'Lasso':result_lasso,'Elastic':result_elastic}\n",
    "    melhor_modelo = max(dic_regModels,key=dic_regModels.get)\n",
    "\n",
    "    print()\n",
    "    print(\"Melhor modelo: \",melhor_modelo, ' com o valor de: ',dic_regModels[melhor_modelo])"
   ]
  },
  {
   "cell_type": "code",
   "execution_count": 13,
   "id": "ac1d65c0",
   "metadata": {
    "execution": {
     "iopub.execute_input": "2023-07-31T02:27:32.505953Z",
     "iopub.status.busy": "2023-07-31T02:27:32.505159Z",
     "iopub.status.idle": "2023-07-31T02:27:33.303320Z",
     "shell.execute_reply": "2023-07-31T02:27:33.301479Z"
    },
    "papermill": {
     "duration": 0.81298,
     "end_time": "2023-07-31T02:27:33.308284",
     "exception": false,
     "start_time": "2023-07-31T02:27:32.495304",
     "status": "completed"
    },
    "tags": []
   },
   "outputs": [
    {
     "name": "stderr",
     "output_type": "stream",
     "text": [
      "/opt/conda/lib/python3.10/site-packages/sklearn/linear_model/_coordinate_descent.py:631: ConvergenceWarning: Objective did not converge. You might want to increase the number of iterations, check the scale of the features or consider increasing regularisation. Duality gap: 3.329e+14, tolerance: 2.093e+11\n",
      "  model = cd_fast.enet_coordinate_descent(\n"
     ]
    },
    {
     "name": "stdout",
     "output_type": "stream",
     "text": [
      "Resultado Linear:  0.6538094196280744\n",
      "Resultado Ridge:  0.6539029726255621\n",
      "Resultado Lasso:  0.653811715690852\n",
      "Resultado Elastic:  0.6241134858939881\n",
      "\n",
      "Melhor modelo:  Ridge  com o valor de:  0.6539029726255621\n"
     ]
    },
    {
     "name": "stderr",
     "output_type": "stream",
     "text": [
      "/opt/conda/lib/python3.10/site-packages/sklearn/linear_model/_coordinate_descent.py:631: ConvergenceWarning: Objective did not converge. You might want to increase the number of iterations, check the scale of the features or consider increasing regularisation. Duality gap: 4.280e+14, tolerance: 2.093e+11\n",
      "  model = cd_fast.enet_coordinate_descent(\n"
     ]
    }
   ],
   "source": [
    "modelosRegressao(x_treino,y_treino,x_teste,y_teste)"
   ]
  },
  {
   "cell_type": "markdown",
   "id": "526e18c3",
   "metadata": {
    "papermill": {
     "duration": 0.038005,
     "end_time": "2023-07-31T02:27:33.371998",
     "exception": false,
     "start_time": "2023-07-31T02:27:33.333993",
     "status": "completed"
    },
    "tags": []
   },
   "source": [
    "### Conclusão\n",
    "\n",
    "Rodando a função com todos os modelos com os parametros em *default*, tivemos como melhor modelo o Ridge, com 65,39%, porém, rodando os modelos separadamente e ajustando seus parâmetros individualmente o resultado foi que o modelo Lasso foi o mais preciso, com 65,47% de acuracidade."
   ]
  }
 ],
 "metadata": {
  "kernelspec": {
   "display_name": "Python 3",
   "language": "python",
   "name": "python3"
  },
  "language_info": {
   "codemirror_mode": {
    "name": "ipython",
    "version": 3
   },
   "file_extension": ".py",
   "mimetype": "text/x-python",
   "name": "python",
   "nbconvert_exporter": "python",
   "pygments_lexer": "ipython3",
   "version": "3.10.12"
  },
  "papermill": {
   "default_parameters": {},
   "duration": 18.099031,
   "end_time": "2023-07-31T02:27:34.428764",
   "environment_variables": {},
   "exception": null,
   "input_path": "__notebook__.ipynb",
   "output_path": "__notebook__.ipynb",
   "parameters": {},
   "start_time": "2023-07-31T02:27:16.329733",
   "version": "2.4.0"
  }
 },
 "nbformat": 4,
 "nbformat_minor": 5
}
