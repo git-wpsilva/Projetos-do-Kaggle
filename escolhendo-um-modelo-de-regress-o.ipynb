{
 "cells": [
  {
   "cell_type": "markdown",
   "id": "72c6ce9c",
   "metadata": {
    "papermill": {
     "duration": 0.005197,
     "end_time": "2023-07-31T02:10:12.725514",
     "exception": false,
     "start_time": "2023-07-31T02:10:12.720317",
     "status": "completed"
    },
    "tags": []
   },
   "source": [
    "# Decidindo o Melhor Modelo de Regressão Linear\n",
    "\n",
    "Neste notebook teremos uma função que aplicará todos os modelos de Regressão Linear a fim de sabermos qual é o melhor modelo, para está função será usado todos os parâmetros como *default*."
   ]
  },
  {
   "cell_type": "code",
   "execution_count": 1,
   "id": "fb38ecc1",
   "metadata": {
    "_cell_guid": "b1076dfc-b9ad-4769-8c92-a6c4dae69d19",
    "_uuid": "8f2839f25d086af736a60e9eeb907d3b93b6e0e5",
    "execution": {
     "iopub.execute_input": "2023-07-31T02:10:12.736857Z",
     "iopub.status.busy": "2023-07-31T02:10:12.736398Z",
     "iopub.status.idle": "2023-07-31T02:10:13.992100Z",
     "shell.execute_reply": "2023-07-31T02:10:13.990608Z"
    },
    "papermill": {
     "duration": 1.264306,
     "end_time": "2023-07-31T02:10:13.994708",
     "exception": false,
     "start_time": "2023-07-31T02:10:12.730402",
     "status": "completed"
    },
    "tags": []
   },
   "outputs": [
    {
     "name": "stderr",
     "output_type": "stream",
     "text": [
      "/opt/conda/lib/python3.10/site-packages/scipy/__init__.py:146: UserWarning: A NumPy version >=1.16.5 and <1.23.0 is required for this version of SciPy (detected version 1.23.5\n",
      "  warnings.warn(f\"A NumPy version >={np_minversion} and <{np_maxversion}\"\n"
     ]
    },
    {
     "name": "stdout",
     "output_type": "stream",
     "text": [
      "/kaggle/input/graduate-admissions/Admission_Predict.csv\n",
      "/kaggle/input/graduate-admissions/Admission_Predict_Ver1.1.csv\n"
     ]
    }
   ],
   "source": [
    "#Importando os dados\n",
    "import numpy as np\n",
    "import pandas as pd\n",
    "from sklearn.model_selection import train_test_split\n",
    "\n",
    "import os\n",
    "for dirname, _, filenames in os.walk('/kaggle/input'):\n",
    "    for filename in filenames:\n",
    "        print(os.path.join(dirname, filename))\n"
   ]
  },
  {
   "cell_type": "code",
   "execution_count": 2,
   "id": "e3b56ea8",
   "metadata": {
    "execution": {
     "iopub.execute_input": "2023-07-31T02:10:14.008464Z",
     "iopub.status.busy": "2023-07-31T02:10:14.006086Z",
     "iopub.status.idle": "2023-07-31T02:10:14.052272Z",
     "shell.execute_reply": "2023-07-31T02:10:14.051299Z"
    },
    "papermill": {
     "duration": 0.054908,
     "end_time": "2023-07-31T02:10:14.054528",
     "exception": false,
     "start_time": "2023-07-31T02:10:13.999620",
     "status": "completed"
    },
    "tags": []
   },
   "outputs": [
    {
     "data": {
      "text/html": [
       "<div>\n",
       "<style scoped>\n",
       "    .dataframe tbody tr th:only-of-type {\n",
       "        vertical-align: middle;\n",
       "    }\n",
       "\n",
       "    .dataframe tbody tr th {\n",
       "        vertical-align: top;\n",
       "    }\n",
       "\n",
       "    .dataframe thead th {\n",
       "        text-align: right;\n",
       "    }\n",
       "</style>\n",
       "<table border=\"1\" class=\"dataframe\">\n",
       "  <thead>\n",
       "    <tr style=\"text-align: right;\">\n",
       "      <th></th>\n",
       "      <th>Serial No.</th>\n",
       "      <th>GRE Score</th>\n",
       "      <th>TOEFL Score</th>\n",
       "      <th>University Rating</th>\n",
       "      <th>SOP</th>\n",
       "      <th>LOR</th>\n",
       "      <th>CGPA</th>\n",
       "      <th>Research</th>\n",
       "      <th>Chance of Admit</th>\n",
       "    </tr>\n",
       "  </thead>\n",
       "  <tbody>\n",
       "    <tr>\n",
       "      <th>0</th>\n",
       "      <td>1</td>\n",
       "      <td>337</td>\n",
       "      <td>118</td>\n",
       "      <td>4</td>\n",
       "      <td>4.5</td>\n",
       "      <td>4.5</td>\n",
       "      <td>9.65</td>\n",
       "      <td>1</td>\n",
       "      <td>0.92</td>\n",
       "    </tr>\n",
       "    <tr>\n",
       "      <th>1</th>\n",
       "      <td>2</td>\n",
       "      <td>324</td>\n",
       "      <td>107</td>\n",
       "      <td>4</td>\n",
       "      <td>4.0</td>\n",
       "      <td>4.5</td>\n",
       "      <td>8.87</td>\n",
       "      <td>1</td>\n",
       "      <td>0.76</td>\n",
       "    </tr>\n",
       "    <tr>\n",
       "      <th>2</th>\n",
       "      <td>3</td>\n",
       "      <td>316</td>\n",
       "      <td>104</td>\n",
       "      <td>3</td>\n",
       "      <td>3.0</td>\n",
       "      <td>3.5</td>\n",
       "      <td>8.00</td>\n",
       "      <td>1</td>\n",
       "      <td>0.72</td>\n",
       "    </tr>\n",
       "    <tr>\n",
       "      <th>3</th>\n",
       "      <td>4</td>\n",
       "      <td>322</td>\n",
       "      <td>110</td>\n",
       "      <td>3</td>\n",
       "      <td>3.5</td>\n",
       "      <td>2.5</td>\n",
       "      <td>8.67</td>\n",
       "      <td>1</td>\n",
       "      <td>0.80</td>\n",
       "    </tr>\n",
       "    <tr>\n",
       "      <th>4</th>\n",
       "      <td>5</td>\n",
       "      <td>314</td>\n",
       "      <td>103</td>\n",
       "      <td>2</td>\n",
       "      <td>2.0</td>\n",
       "      <td>3.0</td>\n",
       "      <td>8.21</td>\n",
       "      <td>0</td>\n",
       "      <td>0.65</td>\n",
       "    </tr>\n",
       "  </tbody>\n",
       "</table>\n",
       "</div>"
      ],
      "text/plain": [
       "   Serial No.  GRE Score  TOEFL Score  University Rating  SOP  LOR   CGPA  \\\n",
       "0           1        337          118                  4  4.5   4.5  9.65   \n",
       "1           2        324          107                  4  4.0   4.5  8.87   \n",
       "2           3        316          104                  3  3.0   3.5  8.00   \n",
       "3           4        322          110                  3  3.5   2.5  8.67   \n",
       "4           5        314          103                  2  2.0   3.0  8.21   \n",
       "\n",
       "   Research  Chance of Admit   \n",
       "0         1              0.92  \n",
       "1         1              0.76  \n",
       "2         1              0.72  \n",
       "3         1              0.80  \n",
       "4         0              0.65  "
      ]
     },
     "execution_count": 2,
     "metadata": {},
     "output_type": "execute_result"
    }
   ],
   "source": [
    "#Leitura prévia dos dados\n",
    "df = pd.read_csv(\"../input/graduate-admissions/Admission_Predict.csv\")\n",
    "df.head()"
   ]
  },
  {
   "cell_type": "code",
   "execution_count": 3,
   "id": "1dd9fd40",
   "metadata": {
    "execution": {
     "iopub.execute_input": "2023-07-31T02:10:14.066900Z",
     "iopub.status.busy": "2023-07-31T02:10:14.066456Z",
     "iopub.status.idle": "2023-07-31T02:10:14.073114Z",
     "shell.execute_reply": "2023-07-31T02:10:14.071953Z"
    },
    "papermill": {
     "duration": 0.015727,
     "end_time": "2023-07-31T02:10:14.075536",
     "exception": false,
     "start_time": "2023-07-31T02:10:14.059809",
     "status": "completed"
    },
    "tags": []
   },
   "outputs": [
    {
     "data": {
      "text/plain": [
       "(400, 9)"
      ]
     },
     "execution_count": 3,
     "metadata": {},
     "output_type": "execute_result"
    }
   ],
   "source": [
    "# Número de linhas e de colunas da tabela\n",
    "df.shape"
   ]
  },
  {
   "cell_type": "code",
   "execution_count": 4,
   "id": "ad79c066",
   "metadata": {
    "execution": {
     "iopub.execute_input": "2023-07-31T02:10:14.087983Z",
     "iopub.status.busy": "2023-07-31T02:10:14.087567Z",
     "iopub.status.idle": "2023-07-31T02:10:14.095925Z",
     "shell.execute_reply": "2023-07-31T02:10:14.094663Z"
    },
    "papermill": {
     "duration": 0.017373,
     "end_time": "2023-07-31T02:10:14.098220",
     "exception": false,
     "start_time": "2023-07-31T02:10:14.080847",
     "status": "completed"
    },
    "tags": []
   },
   "outputs": [
    {
     "data": {
      "text/plain": [
       "Serial No.             int64\n",
       "GRE Score              int64\n",
       "TOEFL Score            int64\n",
       "University Rating      int64\n",
       "SOP                  float64\n",
       "LOR                  float64\n",
       "CGPA                 float64\n",
       "Research               int64\n",
       "Chance of Admit      float64\n",
       "dtype: object"
      ]
     },
     "execution_count": 4,
     "metadata": {},
     "output_type": "execute_result"
    }
   ],
   "source": [
    "#Tipo de dados de cada coluna\n",
    "df.dtypes"
   ]
  },
  {
   "cell_type": "code",
   "execution_count": 5,
   "id": "d294718c",
   "metadata": {
    "execution": {
     "iopub.execute_input": "2023-07-31T02:10:14.111246Z",
     "iopub.status.busy": "2023-07-31T02:10:14.110859Z",
     "iopub.status.idle": "2023-07-31T02:10:14.120284Z",
     "shell.execute_reply": "2023-07-31T02:10:14.119118Z"
    },
    "papermill": {
     "duration": 0.018719,
     "end_time": "2023-07-31T02:10:14.122578",
     "exception": false,
     "start_time": "2023-07-31T02:10:14.103859",
     "status": "completed"
    },
    "tags": []
   },
   "outputs": [
    {
     "name": "stdout",
     "output_type": "stream",
     "text": [
      "Serial No.           0\n",
      "GRE Score            0\n",
      "TOEFL Score          0\n",
      "University Rating    0\n",
      "SOP                  0\n",
      "LOR                  0\n",
      "CGPA                 0\n",
      "Research             0\n",
      "Chance of Admit      0\n",
      "dtype: int64\n"
     ]
    }
   ],
   "source": [
    "#Examinando as colunas vazias (NaN)\n",
    "faltantes = df.isnull().sum()\n",
    "print(faltantes)"
   ]
  },
  {
   "cell_type": "code",
   "execution_count": 6,
   "id": "66e6df63",
   "metadata": {
    "execution": {
     "iopub.execute_input": "2023-07-31T02:10:14.135569Z",
     "iopub.status.busy": "2023-07-31T02:10:14.135165Z",
     "iopub.status.idle": "2023-07-31T02:10:14.144120Z",
     "shell.execute_reply": "2023-07-31T02:10:14.143290Z"
    },
    "papermill": {
     "duration": 0.018207,
     "end_time": "2023-07-31T02:10:14.146328",
     "exception": false,
     "start_time": "2023-07-31T02:10:14.128121",
     "status": "completed"
    },
    "tags": []
   },
   "outputs": [],
   "source": [
    "#Descartando uma coluna inútil aos modelos\n",
    "df.drop('Serial No.',axis=1,inplace=True)"
   ]
  },
  {
   "cell_type": "code",
   "execution_count": 7,
   "id": "03ad960a",
   "metadata": {
    "execution": {
     "iopub.execute_input": "2023-07-31T02:10:14.161146Z",
     "iopub.status.busy": "2023-07-31T02:10:14.160108Z",
     "iopub.status.idle": "2023-07-31T02:10:14.167375Z",
     "shell.execute_reply": "2023-07-31T02:10:14.166303Z"
    },
    "papermill": {
     "duration": 0.01702,
     "end_time": "2023-07-31T02:10:14.169830",
     "exception": false,
     "start_time": "2023-07-31T02:10:14.152810",
     "status": "completed"
    },
    "tags": []
   },
   "outputs": [],
   "source": [
    "#Separando variável target com variáveis independentes\n",
    "y = df['Chance of Admit ']\n",
    "x = df.drop('Chance of Admit ',axis=1)"
   ]
  },
  {
   "cell_type": "code",
   "execution_count": 8,
   "id": "31eb2ebd",
   "metadata": {
    "execution": {
     "iopub.execute_input": "2023-07-31T02:10:14.183111Z",
     "iopub.status.busy": "2023-07-31T02:10:14.182405Z",
     "iopub.status.idle": "2023-07-31T02:10:14.190246Z",
     "shell.execute_reply": "2023-07-31T02:10:14.189183Z"
    },
    "papermill": {
     "duration": 0.017137,
     "end_time": "2023-07-31T02:10:14.192662",
     "exception": false,
     "start_time": "2023-07-31T02:10:14.175525",
     "status": "completed"
    },
    "tags": []
   },
   "outputs": [],
   "source": [
    "# Separando os dados entre treino e teste\n",
    "x_treino,x_teste,y_treino,y_teste = train_test_split(x,y,test_size = 0.3, random_state = 14)"
   ]
  },
  {
   "cell_type": "code",
   "execution_count": 9,
   "id": "a1f0cdf5",
   "metadata": {
    "execution": {
     "iopub.execute_input": "2023-07-31T02:10:14.205812Z",
     "iopub.status.busy": "2023-07-31T02:10:14.205382Z",
     "iopub.status.idle": "2023-07-31T02:10:14.216165Z",
     "shell.execute_reply": "2023-07-31T02:10:14.214973Z"
    },
    "papermill": {
     "duration": 0.020185,
     "end_time": "2023-07-31T02:10:14.218485",
     "exception": false,
     "start_time": "2023-07-31T02:10:14.198300",
     "status": "completed"
    },
    "tags": []
   },
   "outputs": [],
   "source": [
    "#Aplicação da função\n",
    "def modelosRegressao(a, b, c, d):\n",
    "\n",
    "    from sklearn.linear_model import LinearRegression,Ridge,Lasso,ElasticNet\n",
    "\n",
    "    x_treino = a\n",
    "    y_treino = b\n",
    "    x_teste = c\n",
    "    y_teste = d\n",
    "\n",
    "    reg = LinearRegression()\n",
    "    ridge = Ridge()\n",
    "    lasso = Lasso()\n",
    "    elastic = ElasticNet()\n",
    "\n",
    "    reg.fit(x_treino, y_treino)\n",
    "    ridge.fit(x_treino, y_treino)\n",
    "    lasso.fit(x_treino, y_treino)\n",
    "    elastic.fit(x_treino, y_treino)\n",
    "\n",
    "    result_reg = reg.score(x_teste, y_teste) \n",
    "    result_ridge = ridge.score(x_teste, y_teste)\n",
    "    result_lasso = lasso.score(x_teste, y_teste)\n",
    "    result_elastic = elastic.score(x_teste, y_teste)\n",
    "\n",
    "    print(\"Resultado Linear: \", result_reg)\n",
    "    print(\"Resultado Ridge: \", result_ridge)\n",
    "    print(\"Resultado Lasso: \", result_lasso)\n",
    "    print(\"Resultado Elastic: \", result_elastic)\n",
    "\n",
    "    dic_regModels = {'Linear':result_reg,'Ridge':result_ridge,'Lasso':result_lasso,'Elastic':result_elastic}\n",
    "    melhor_modelo = max(dic_regModels,key=dic_regModels.get)\n",
    "\n",
    "    print()\n",
    "    print(\"Melhor modelo: \",melhor_modelo, ' com o valor de: ',dic_regModels[melhor_modelo])"
   ]
  },
  {
   "cell_type": "code",
   "execution_count": 10,
   "id": "ccf9627a",
   "metadata": {
    "execution": {
     "iopub.execute_input": "2023-07-31T02:10:14.231426Z",
     "iopub.status.busy": "2023-07-31T02:10:14.231040Z",
     "iopub.status.idle": "2023-07-31T02:10:14.378405Z",
     "shell.execute_reply": "2023-07-31T02:10:14.377083Z"
    },
    "papermill": {
     "duration": 0.161325,
     "end_time": "2023-07-31T02:10:14.385554",
     "exception": false,
     "start_time": "2023-07-31T02:10:14.224229",
     "status": "completed"
    },
    "tags": []
   },
   "outputs": [
    {
     "name": "stdout",
     "output_type": "stream",
     "text": [
      "Resultado Linear:  0.8074301329952366\n",
      "Resultado Ridge:  0.8086244883902471\n",
      "Resultado Lasso:  0.2880440026881922\n",
      "Resultado Elastic:  0.6153065342269577\n",
      "\n",
      "Melhor modelo:  Ridge  com o valor de:  0.8086244883902471\n"
     ]
    }
   ],
   "source": [
    "# MOstrando os resultados\n",
    "modelosRegressao(x_treino,y_treino,x_teste,y_teste)"
   ]
  },
  {
   "cell_type": "markdown",
   "id": "d4671287",
   "metadata": {
    "papermill": {
     "duration": 0.005762,
     "end_time": "2023-07-31T02:10:14.399810",
     "exception": false,
     "start_time": "2023-07-31T02:10:14.394048",
     "status": "completed"
    },
    "tags": []
   },
   "source": [
    "### Conclusão\n",
    "\n",
    "O modelo de Ridge obteve o melhor resultado, com 80,86% de acurácia, os outros modelos tiveram resultados bem parecidos, com exceção do modelo de Lasso, que registrou apenas 28,80%, o que indica que resultados melhores poderiam ser obtidos com modelos ajustados com penalidades maiores."
   ]
  }
 ],
 "metadata": {
  "kernelspec": {
   "display_name": "Python 3",
   "language": "python",
   "name": "python3"
  },
  "language_info": {
   "codemirror_mode": {
    "name": "ipython",
    "version": 3
   },
   "file_extension": ".py",
   "mimetype": "text/x-python",
   "name": "python",
   "nbconvert_exporter": "python",
   "pygments_lexer": "ipython3",
   "version": "3.10.12"
  },
  "papermill": {
   "default_parameters": {},
   "duration": 13.891064,
   "end_time": "2023-07-31T02:10:15.428145",
   "environment_variables": {},
   "exception": null,
   "input_path": "__notebook__.ipynb",
   "output_path": "__notebook__.ipynb",
   "parameters": {},
   "start_time": "2023-07-31T02:10:01.537081",
   "version": "2.4.0"
  }
 },
 "nbformat": 4,
 "nbformat_minor": 5
}
